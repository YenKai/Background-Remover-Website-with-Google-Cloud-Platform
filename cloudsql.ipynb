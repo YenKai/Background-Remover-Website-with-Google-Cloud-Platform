{
 "cells": [
  {
   "cell_type": "code",
   "execution_count": 83,
   "metadata": {},
   "outputs": [
    {
     "name": "stderr",
     "output_type": "stream",
     "text": [
      "Your browser has been opened to visit:\n",
      "\n",
      "    https://accounts.google.com/o/oauth2/auth?response_type=code&client_id=764086051850-6qr4p6gpi6hn506pt8ejuq83di341hur.apps.googleusercontent.com&redirect_uri=http%3A%2F%2Flocalhost%3A8085%2F&scope=openid+https%3A%2F%2Fwww.googleapis.com%2Fauth%2Fuserinfo.email+https%3A%2F%2Fwww.googleapis.com%2Fauth%2Fcloud-platform+https%3A%2F%2Fwww.googleapis.com%2Fauth%2Fsqlservice.login&state=P17ZdBGlasyqMGMi6IXqDPtHIpbNKI&access_type=offline&code_challenge=NAv54dHu2ohfm9skwM3tXGV9d4bAF6zrj1Y_7nqCBmM&code_challenge_method=S256\n",
      "\n",
      "\n",
      "Credentials saved to file: [C:\\Users\\Lenovo\\AppData\\Roaming\\gcloud\\application_default_credentials.json]\n",
      "\n",
      "These credentials will be used by any library that requests Application Default Credentials (ADC).\n",
      "\n",
      "Quota project \"utopian-splicer-400911\" was added to ADC which can be used by Google client libraries for billing and quota. Note that some services may still bill the project owning the resource.\n"
     ]
    },
    {
     "name": "stdout",
     "output_type": "stream",
     "text": [
      "['ec23661@qmul.ac.uk']\n",
      "bindings:\n",
      "- members:\n",
      "  - serviceAccount:service-391234968399@gcp-sa-artifactregistry.iam.gserviceaccount.com\n",
      "  role: roles/artifactregistry.serviceAgent\n",
      "- members:\n",
      "  - serviceAccount:391234968399@cloudbuild.gserviceaccount.com\n",
      "  role: roles/cloudbuild.builds.builder\n",
      "- members:\n",
      "  - serviceAccount:service-391234968399@gcp-sa-cloudbuild.iam.gserviceaccount.com\n",
      "  role: roles/cloudbuild.serviceAgent\n",
      "- members:\n",
      "  - serviceAccount:service-391234968399@gcf-admin-robot.iam.gserviceaccount.com\n",
      "  role: roles/cloudfunctions.serviceAgent\n",
      "- members:\n",
      "  - user:ec23661@qmul.ac.uk\n",
      "  role: roles/cloudsql.client\n",
      "- members:\n",
      "  - serviceAccount:service-391234968399@compute-system.iam.gserviceaccount.com\n",
      "  role: roles/compute.serviceAgent\n",
      "- members:\n",
      "  - serviceAccount:service-391234968399@container-engine-robot.iam.gserviceaccount.com\n",
      "  role: roles/container.serviceAgent\n",
      "- members:\n",
      "  - serviceAccount:service-391234968399@containerregistry.iam.gserviceaccount.com\n",
      "  role: roles/containerregistry.ServiceAgent\n",
      "- members:\n",
      "  - serviceAccount:391234968399-compute@developer.gserviceaccount.com\n",
      "  - serviceAccount:391234968399@cloudservices.gserviceaccount.com\n",
      "  - serviceAccount:utopian-splicer-400911@appspot.gserviceaccount.com\n",
      "  role: roles/editor\n",
      "- members:\n",
      "  - user:ec23661@qmul.ac.uk\n",
      "  role: roles/owner\n",
      "- members:\n",
      "  - serviceAccount:service-391234968399@gcp-sa-pubsub.iam.gserviceaccount.com\n",
      "  role: roles/pubsub.serviceAgent\n",
      "- members:\n",
      "  - serviceAccount:service-391234968399@serverless-robot-prod.iam.gserviceaccount.com\n",
      "  role: roles/run.serviceAgent\n",
      "etag: BwYLy0D-cRc=\n",
      "version: 1\n"
     ]
    },
    {
     "name": "stderr",
     "output_type": "stream",
     "text": [
      "Updated IAM policy for project [utopian-splicer-400911].\n"
     ]
    }
   ],
   "source": [
    "# grant Cloud SQL Client role to authenticated user\n",
    "!gcloud auth application-default login\n",
    "\n",
    "current_user = !gcloud auth list --filter=status:ACTIVE --format=\"value(account)\"\n",
    "\n",
    "print(current_user)\n",
    "\n",
    "!gcloud projects add-iam-policy-binding utopian-splicer-400911 --member=user:{current_user[0]} --role=\"roles/cloudsql.client\""
   ]
  },
  {
   "cell_type": "code",
   "execution_count": 84,
   "metadata": {},
   "outputs": [],
   "source": [
    "# !gcloud projects add-iam-policy-binding YOUR_PROJECT_ID --member \"serviceAccount:NAME@YOUR_PROJECT_ID.iam.gserviceaccount.com\" --role \"roles/owner\""
   ]
  },
  {
   "cell_type": "code",
   "execution_count": 85,
   "metadata": {},
   "outputs": [],
   "source": [
    "!gcloud services enable sqladmin.googleapis.com"
   ]
  },
  {
   "cell_type": "code",
   "execution_count": 86,
   "metadata": {},
   "outputs": [
    {
     "name": "stdout",
     "output_type": "stream",
     "text": [
      "Found existing MySQL Cloud SQL Instance!\n"
     ]
    }
   ],
   "source": [
    "region = \"europe-west2\" \n",
    "instance_name = \"kienps\" \n",
    "\n",
    "# check if Cloud SQL instance exists in the provided region\n",
    "database_version = !gcloud sql instances describe {instance_name} --format=\"value(databaseVersion)\"\n",
    "if database_version[0].startswith(\"MYSQL\"):\n",
    "  print(\"Found existing MySQL Cloud SQL Instance!\")\n",
    "else:\n",
    "  print(\"Creating new Cloud SQL instance...\")\n",
    "  password = input(\"Please provide a password to be used for database 'root' user: \")\n",
    "  !gcloud sql instances create {instance_name} --database-version=MYSQL_8_0 \\\n",
    "    --region={region} --cpu=1 --memory=4GB --root-password={password} \\\n",
    "    --database-flags=cloudsql_iam_authentication=On"
   ]
  },
  {
   "cell_type": "code",
   "execution_count": 95,
   "metadata": {},
   "outputs": [
    {
     "name": "stdout",
     "output_type": "stream",
     "text": [
      "instance: kienps\n",
      "name: cloud_project_4\n",
      "project: utopian-splicer-400911\n"
     ]
    },
    {
     "name": "stderr",
     "output_type": "stream",
     "text": [
      "Creating Cloud SQL database...\n",
      ".done.\n",
      "Created database [cloud_project_4].\n"
     ]
    }
   ],
   "source": [
    "!gcloud sql databases create cloud_project_4 --instance={instance_name}"
   ]
  },
  {
   "cell_type": "code",
   "execution_count": 96,
   "metadata": {},
   "outputs": [
    {
     "name": "stderr",
     "output_type": "stream",
     "text": [
      "Creating Cloud SQL user...\n",
      ".done.\n",
      "Created user [user].\n"
     ]
    }
   ],
   "source": [
    "!gcloud sql users create user --instance={instance_name} --password=\"test\""
   ]
  },
  {
   "cell_type": "code",
   "execution_count": 97,
   "metadata": {},
   "outputs": [
    {
     "name": "stdout",
     "output_type": "stream",
     "text": [
      "Your instance connection name is: utopian-splicer-400911:europe-west2:kienps\n"
     ]
    }
   ],
   "source": [
    "# initialize parameters\n",
    "project_id='utopian-splicer-400911'\n",
    "region = 'europe-west2'\n",
    "instance_name = 'kienps'\n",
    "\n",
    "INSTANCE_CONNECTION_NAME = f\"{project_id}:{region}:{instance_name}\" # i.e demo-project:us-central1:demo-instance\n",
    "print(f\"Your instance connection name is: {INSTANCE_CONNECTION_NAME}\")\n",
    "DB_USER = \"user\"\n",
    "DB_PASS = \"test\"\n",
    "DB_NAME = \"cloud_project_4\""
   ]
  },
  {
   "cell_type": "code",
   "execution_count": 98,
   "metadata": {},
   "outputs": [],
   "source": [
    "from google.cloud.sql.connector import Connector\n",
    "import sqlalchemy\n",
    "\n",
    "# initialize Connector object\n",
    "connector = Connector()\n",
    "\n",
    "# function to return the database connection object\n",
    "def getconn():\n",
    "    conn = connector.connect(\n",
    "        INSTANCE_CONNECTION_NAME,\n",
    "        \"pymysql\",\n",
    "        user=DB_USER,\n",
    "        password=DB_PASS,\n",
    "        db=DB_NAME\n",
    "    )\n",
    "    return conn\n",
    "\n",
    "# create connection pool with 'creator' argument to our connection object function\n",
    "pool = sqlalchemy.create_engine(\n",
    "    \"mysql+pymysql://\",\n",
    "    creator=getconn,\n",
    ")"
   ]
  },
  {
   "cell_type": "code",
   "execution_count": 99,
   "metadata": {},
   "outputs": [
    {
     "name": "stdout",
     "output_type": "stream",
     "text": [
      "(1, 'kienps', 'ok@gmail.com', 'testing1')\n",
      "(2, 'Diba', 'ok1@gmail.com', 'testing2')\n",
      "(3, 'Admin', 'ok2@gmail.com', 'testing3')\n"
     ]
    }
   ],
   "source": [
    "# connect to connection pool\n",
    "with pool.connect() as db_conn:\n",
    "  # create ratings table in our sandwiches database\n",
    "  db_conn.execute(\n",
    "    sqlalchemy.text(\n",
    "      \"CREATE TABLE IF NOT EXISTS user \"\n",
    "      \"( id SERIAL NOT NULL, username VARCHAR(255) NOT NULL, \"\n",
    "      \"email VARCHAR(255) NOT NULL, password VARCHAR(1000) NOT NULL, \"\n",
    "      \"PRIMARY KEY (id));\"\n",
    "    )\n",
    "  )\n",
    "\n",
    "  # commit transaction (SQLAlchemy v2.X.X is commit as you go)\n",
    "  db_conn.commit()\n",
    "\n",
    "  # insert data into our ratings table\n",
    "  insert_stmt = sqlalchemy.text(\n",
    "      \"INSERT INTO user (email, password, username) VALUES (:email, :password, :username)\",\n",
    "  )\n",
    "\n",
    "  # insert entries into table\n",
    "  db_conn.execute(insert_stmt, parameters={ \"email\": \"ok@gmail.com\",\"password\": \"testing1\", \"username\": \"kienps\"})\n",
    "  db_conn.execute(insert_stmt, parameters={ \"email\": \"ok1@gmail.com\", \"password\": \"testing2\", \"username\": \"Diba\"})\n",
    "  db_conn.execute(insert_stmt, parameters={\"email\": \"ok2@gmail.com\", \"password\": \"testing3\", \"username\": \"Admin\"})\n",
    "\n",
    "  # commit transactions\n",
    "  db_conn.commit()\n",
    "\n",
    "  # query and fetch ratings table\n",
    "  results = db_conn.execute(sqlalchemy.text(\"SELECT * FROM user\")).fetchall()\n",
    "\n",
    "  # show results\n",
    "  for row in results:\n",
    "    print(row)"
   ]
  },
  {
   "cell_type": "code",
   "execution_count": null,
   "metadata": {},
   "outputs": [],
   "source": []
  },
  {
   "cell_type": "code",
   "execution_count": null,
   "metadata": {},
   "outputs": [],
   "source": []
  }
 ],
 "metadata": {
  "kernelspec": {
   "display_name": "flask_learning",
   "language": "python",
   "name": "python3"
  },
  "language_info": {
   "codemirror_mode": {
    "name": "ipython",
    "version": 3
   },
   "file_extension": ".py",
   "mimetype": "text/x-python",
   "name": "python",
   "nbconvert_exporter": "python",
   "pygments_lexer": "ipython3",
   "version": "3.11.5"
  }
 },
 "nbformat": 4,
 "nbformat_minor": 2
}
